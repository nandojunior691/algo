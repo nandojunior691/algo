{
  "cells": [
    {
      "cell_type": "markdown",
      "metadata": {
        "id": "view-in-github",
        "colab_type": "text"
      },
      "source": [
        "<a href=\"https://colab.research.google.com/github/nandojunior691/algo/blob/main/Selamat_Datang_di_Colaboratory.ipynb\" target=\"_parent\"><img src=\"https://colab.research.google.com/assets/colab-badge.svg\" alt=\"Open In Colab\"/></a>"
      ]
    },
    {
      "cell_type": "code",
      "source": [
        "import math\n",
        "\n",
        "# Menerima input dari user\n",
        "a = int(input(\"Masukkan bilangan bulat a: \"))\n",
        "b = int(input(\"Masukkan bilangan bulat b: \"))\n",
        "\n",
        "# Melakukan perhitungan sesuai permintaan\n",
        "jumlah = a + b\n",
        "selisih = b - a\n",
        "kali = a * b\n",
        "sisa_bagi = a % b\n",
        "pembagian = a / b\n",
        "log_a = math.log10(a) if a > 0 else \"Tidak dapat menghitung log dari bilangan <= 0\"\n",
        "pangkat = a ** b\n",
        "\n",
        "# Menampilkan hasil perhitungan\n",
        "print(f\"Jumlah a dan b: {jumlah}\")\n",
        "print(f\"Selisih antara b dengan a: {selisih}\")\n",
        "print(f\"Hasil kali a dan b: {kali}\")\n",
        "print(f\"Sisa pembagian a dengan b: {sisa_bagi}\")\n",
        "print(f\"Pembagian a dengan b: {pembagian}\")\n",
        "print(f\"Hasil dari log(a): {log_a}\")\n",
        "print(f\"a pangkat b: {pangkat}\")\n"
      ],
      "metadata": {
        "id": "7gX54s3QfNta",
        "outputId": "86087daf-b341-4a01-b4fb-64a7d346a773",
        "colab": {
          "base_uri": "https://localhost:8080/"
        }
      },
      "execution_count": 1,
      "outputs": [
        {
          "output_type": "stream",
          "name": "stdout",
          "text": [
            "Masukkan bilangan bulat a: 10\n",
            "Masukkan bilangan bulat b: 15\n",
            "Jumlah a dan b: 25\n",
            "Selisih antara b dengan a: 5\n",
            "Hasil kali a dan b: 150\n",
            "Sisa pembagian a dengan b: 10\n",
            "Pembagian a dengan b: 0.6666666666666666\n",
            "Hasil dari log(a): 1.0\n",
            "a pangkat b: 1000000000000000\n"
          ]
        }
      ]
    },
    {
      "cell_type": "code",
      "source": [
        "import math\n",
        "\n",
        "# Fungsi untuk menghitung jarak menggunakan rumus Haversine\n",
        "def haversine(lat1, lon1, lat2, lon2):\n",
        "    # Radius bumi dalam kilometer\n",
        "    R = 6371.0\n",
        "\n",
        "    # Konversi derajat ke radian\n",
        "    lat1_rad = math.radians(lat1)\n",
        "    lon1_rad = math.radians(lon1)\n",
        "    lat2_rad = math.radians(lat2)\n",
        "    lon2_rad = math.radians(lon2)\n",
        "\n",
        "    # Perbedaan latitud dan longitud\n",
        "    dlat = lat2_rad - lat1_rad\n",
        "    dlon = lon2_rad - lon1_rad\n",
        "\n",
        "    # Menggunakan rumus Haversine\n",
        "    a = math.sin(dlat / 2)**2 + math.cos(lat1_rad) * math.cos(lat2_rad) * math.sin(dlon / 2)**2\n",
        "    c = 2 * math.atan2(math.sqrt(a), math.sqrt(1 - a))\n",
        "\n",
        "    # Menghitung jarak\n",
        "    distance = R * c\n",
        "    return distance\n",
        "\n",
        "# Input dari pengguna\n",
        "lat1 = float(input(\"Masukkan lintang titik pertama: \"))\n",
        "lon1 = float(input(\"Masukkan bujur titik pertama: \"))\n",
        "lat2 = float(input(\"Masukkan lintang titik kedua: \"))\n",
        "lon2 = float(input(\"Masukkan bujur titik kedua: \"))\n",
        "\n",
        "# Menghitung jarak\n",
        "jarak = haversine(lat1, lon1, lat2, lon2)\n",
        "\n",
        "# Menampilkan hasil jarak\n",
        "print(f\"Jarak antara dua titik di permukaan bumi: {jarak:.2f} km\")\n"
      ],
      "metadata": {
        "id": "GZHYVTVogD7N",
        "outputId": "fd509e59-3b61-4dfb-a701-829a931dab6a",
        "colab": {
          "base_uri": "https://localhost:8080/"
        }
      },
      "execution_count": 2,
      "outputs": [
        {
          "output_type": "stream",
          "name": "stdout",
          "text": [
            "Masukkan lintang titik pertama: 5\n",
            "Masukkan bujur titik pertama: 8\n",
            "Masukkan lintang titik kedua: 10\n",
            "Masukkan bujur titik kedua: 15\n",
            "Jarak antara dua titik di permukaan bumi: 950.91 km\n"
          ]
        }
      ]
    }
  ],
  "metadata": {
    "colab": {
      "name": "Selamat Datang di Colaboratory",
      "toc_visible": true,
      "provenance": [],
      "include_colab_link": true
    },
    "kernelspec": {
      "display_name": "Python 3",
      "name": "python3"
    }
  },
  "nbformat": 4,
  "nbformat_minor": 0
}